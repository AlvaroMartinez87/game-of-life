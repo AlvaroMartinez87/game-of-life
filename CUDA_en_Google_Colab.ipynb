{
  "cells": [
    {
      "cell_type": "markdown",
      "metadata": {
        "id": "view-in-github",
        "colab_type": "text"
      },
      "source": [
        "<a href=\"https://colab.research.google.com/github/AlvaroMartinez87/game-of-life/blob/master/CUDA_en_Google_Colab.ipynb\" target=\"_parent\"><img src=\"https://colab.research.google.com/assets/colab-badge.svg\" alt=\"Open In Colab\"/></a>"
      ]
    },
    {
      "cell_type": "markdown",
      "metadata": {
        "id": "9U4xt_JMm34e"
      },
      "source": [
        "# USO DE CUDA EN GOOGLE COLAB"
      ]
    },
    {
      "cell_type": "markdown",
      "metadata": {
        "id": "tOoE7bP9m34j"
      },
      "source": [
        "## Configuración del entorno de ejecución "
      ]
    },
    {
      "cell_type": "markdown",
      "metadata": {
        "id": "1HDu5iiNm34j"
      },
      "source": [
        "Habilita la GPU en el entorno de ejecución de Colab:\n",
        "1. En el menú: `Editar/Configuración del cuaderno`\n",
        "2. Selecciona **GPU** en el menú desplegable `Acelerador por hardware`"
      ]
    },
    {
      "cell_type": "markdown",
      "source": [
        "Muestra información sobre la arquitectura de las GPUs disponibles en la máquina."
      ],
      "metadata": {
        "id": "RTZfpvAzpYax"
      }
    },
    {
      "cell_type": "code",
      "execution_count": null,
      "metadata": {
        "id": "KJ6uknH2m34k",
        "colab": {
          "base_uri": "https://localhost:8080/"
        },
        "outputId": "c9e94e4d-b21d-4133-9714-be5bd3a5ba4a"
      },
      "outputs": [
        {
          "output_type": "stream",
          "name": "stdout",
          "text": [
            "Wed May 18 17:10:50 2022       \n",
            "+-----------------------------------------------------------------------------+\n",
            "| NVIDIA-SMI 460.32.03    Driver Version: 460.32.03    CUDA Version: 11.2     |\n",
            "|-------------------------------+----------------------+----------------------+\n",
            "| GPU  Name        Persistence-M| Bus-Id        Disp.A | Volatile Uncorr. ECC |\n",
            "| Fan  Temp  Perf  Pwr:Usage/Cap|         Memory-Usage | GPU-Util  Compute M. |\n",
            "|                               |                      |               MIG M. |\n",
            "|===============================+======================+======================|\n",
            "|   0  Tesla T4            Off  | 00000000:00:04.0 Off |                    0 |\n",
            "| N/A   37C    P8     9W /  70W |      0MiB / 15109MiB |      0%      Default |\n",
            "|                               |                      |                  N/A |\n",
            "+-------------------------------+----------------------+----------------------+\n",
            "                                                                               \n",
            "+-----------------------------------------------------------------------------+\n",
            "| Processes:                                                                  |\n",
            "|  GPU   GI   CI        PID   Type   Process name                  GPU Memory |\n",
            "|        ID   ID                                                   Usage      |\n",
            "|=============================================================================|\n",
            "|  No running processes found                                                 |\n",
            "+-----------------------------------------------------------------------------+\n"
          ]
        }
      ],
      "source": [
        "!nvidia-smi"
      ]
    },
    {
      "cell_type": "markdown",
      "metadata": {
        "id": "ZTdtb4K6m34l"
      },
      "source": [
        "\n",
        "Muestra la versión de CUDA"
      ]
    },
    {
      "cell_type": "code",
      "execution_count": null,
      "metadata": {
        "id": "w1jzjwXNm34l",
        "colab": {
          "base_uri": "https://localhost:8080/"
        },
        "outputId": "2319acb1-004d-47ff-de25-2e5d2ff64710"
      },
      "outputs": [
        {
          "output_type": "stream",
          "name": "stdout",
          "text": [
            "nvcc: NVIDIA (R) Cuda compiler driver\n",
            "Copyright (c) 2005-2020 NVIDIA Corporation\n",
            "Built on Mon_Oct_12_20:09:46_PDT_2020\n",
            "Cuda compilation tools, release 11.1, V11.1.105\n",
            "Build cuda_11.1.TC455_06.29190527_0\n"
          ]
        }
      ],
      "source": [
        "!nvcc --version"
      ]
    },
    {
      "cell_type": "markdown",
      "metadata": {
        "id": "EJSdRuzem34m"
      },
      "source": [
        "Clona el repositorio de ejemplos de CUDA runtime"
      ]
    },
    {
      "cell_type": "code",
      "execution_count": null,
      "metadata": {
        "id": "HyBGaDMSm34n",
        "colab": {
          "base_uri": "https://localhost:8080/"
        },
        "outputId": "e29a4548-9e97-460f-f670-c9353216fab2"
      },
      "outputs": [
        {
          "output_type": "stream",
          "name": "stdout",
          "text": [
            "Cloning into 'cuda-samples'...\n",
            "remote: Enumerating objects: 9693, done.\u001b[K\n",
            "remote: Total 9693 (delta 0), reused 0 (delta 0), pack-reused 9693\u001b[K\n",
            "Receiving objects: 100% (9693/9693), 122.53 MiB | 29.95 MiB/s, done.\n",
            "Resolving deltas: 100% (7840/7840), done.\n",
            "Checking out files: 100% (3612/3612), done.\n"
          ]
        }
      ],
      "source": [
        "!git clone https://github.com/NVIDIA/cuda-samples"
      ]
    },
    {
      "cell_type": "markdown",
      "metadata": {
        "id": "4542pr4Dm34o"
      },
      "source": [
        "Haz que `cuda-samples` sea tu directorio de trabajo"
      ]
    },
    {
      "cell_type": "code",
      "source": [
        "cd cuda-samples"
      ],
      "metadata": {
        "id": "YbZvWz02zKsq",
        "colab": {
          "base_uri": "https://localhost:8080/"
        },
        "outputId": "d568057d-f4bd-47dd-b3fd-fc1ebdaae326"
      },
      "execution_count": null,
      "outputs": [
        {
          "output_type": "stream",
          "name": "stdout",
          "text": [
            "/content/cuda-samples\n"
          ]
        }
      ]
    },
    {
      "cell_type": "markdown",
      "source": [
        ""
      ],
      "metadata": {
        "id": "hnAkdtXG6jyn"
      }
    },
    {
      "cell_type": "markdown",
      "source": [
        "Muestra lista de tags del repositorio de `cuda-samples`"
      ],
      "metadata": {
        "id": "LtfYjKpgzQyR"
      }
    },
    {
      "cell_type": "code",
      "source": [
        "!git tag"
      ],
      "metadata": {
        "id": "N1LU4zt4ztR6",
        "colab": {
          "base_uri": "https://localhost:8080/"
        },
        "outputId": "a6daed0e-d03e-40e4-821e-f98cf1a5cd01"
      },
      "execution_count": null,
      "outputs": [
        {
          "output_type": "stream",
          "name": "stdout",
          "text": [
            "10.1.1\n",
            "10.1.2\n",
            "v10.0\n",
            "v10.0.1\n",
            "v10.1\n",
            "v10.2\n",
            "v11.0\n",
            "v11.1\n",
            "v11.2\n",
            "v11.3\n",
            "v11.4\n",
            "v11.4.1\n",
            "v11.5\n",
            "v11.6\n",
            "v9.2\n"
          ]
        }
      ]
    },
    {
      "cell_type": "markdown",
      "source": [
        "Cambia a la rama del número de versión que coincida con la versión de CUDA runtime mostrada anteriormente (en el caso de creación de este cuaderno fue la v11.1                 "
      ],
      "metadata": {
        "id": "B_Vw_JaNz7OK"
      }
    },
    {
      "cell_type": "code",
      "source": [
        "!git checkout tags/v11.1"
      ],
      "metadata": {
        "id": "XRgxCnZ91MYt",
        "colab": {
          "base_uri": "https://localhost:8080/"
        },
        "outputId": "e13274ef-ca07-44a7-9dbd-66052bd168a8"
      },
      "execution_count": null,
      "outputs": [
        {
          "output_type": "stream",
          "name": "stdout",
          "text": [
            "Note: checking out 'tags/v11.1'.\n",
            "\n",
            "You are in 'detached HEAD' state. You can look around, make experimental\n",
            "changes and commit them, and you can discard any commits you make in this\n",
            "state without impacting any branches by performing another checkout.\n",
            "\n",
            "If you want to create a new branch to retain commits you create, you may\n",
            "do so (now or later) by using -b with the checkout command again. Example:\n",
            "\n",
            "  git checkout -b <new-branch-name>\n",
            "\n",
            "HEAD is now at c4e2869 add multi-warp cooperative groups based reduction kernel in reduction sample\n"
          ]
        }
      ]
    },
    {
      "cell_type": "markdown",
      "source": [
        "Haz que `Samples/deviceQuery` sea tu directorio de trabajo"
      ],
      "metadata": {
        "id": "YsR0itGA1gqb"
      }
    },
    {
      "cell_type": "code",
      "source": [
        "cd Samples/deviceQuery"
      ],
      "metadata": {
        "id": "0w8xIywc1v9E",
        "colab": {
          "base_uri": "https://localhost:8080/"
        },
        "outputId": "14f966d7-0c0e-4a13-a2bc-3cbfe578e6d4"
      },
      "execution_count": null,
      "outputs": [
        {
          "output_type": "stream",
          "name": "stdout",
          "text": [
            "/content/cuda-samples/Samples/deviceQuery\n"
          ]
        }
      ]
    },
    {
      "cell_type": "markdown",
      "source": [
        "Compila y ejecuta el programa deviceQuery. Observa el nombre de la GPU, las versiones del driver de CUDA y de CUDA runtime, la capacidad de cómputo (CUDA Capability), la cantidad de memoria, el número de cores CUDA, dimensiones máximas de bloque y grid…"
      ],
      "metadata": {
        "id": "Dhd5E1sv1yq4"
      }
    },
    {
      "cell_type": "code",
      "source": [
        "!make"
      ],
      "metadata": {
        "id": "5ug7M7Kq16ZX",
        "colab": {
          "base_uri": "https://localhost:8080/"
        },
        "outputId": "a89723cb-dc56-4e9f-b4df-62a5dd5b4c21"
      },
      "execution_count": null,
      "outputs": [
        {
          "output_type": "stream",
          "name": "stdout",
          "text": [
            "/usr/local/cuda/bin/nvcc -ccbin g++ -I../../Common  -m64    -gencode arch=compute_35,code=sm_35 -gencode arch=compute_37,code=sm_37 -gencode arch=compute_50,code=sm_50 -gencode arch=compute_52,code=sm_52 -gencode arch=compute_60,code=sm_60 -gencode arch=compute_61,code=sm_61 -gencode arch=compute_70,code=sm_70 -gencode arch=compute_75,code=sm_75 -gencode arch=compute_80,code=sm_80 -gencode arch=compute_86,code=sm_86 -gencode arch=compute_86,code=compute_86 -o deviceQuery.o -c deviceQuery.cpp\n",
            "nvcc warning : The 'compute_35', 'compute_37', 'compute_50', 'sm_35', 'sm_37' and 'sm_50' architectures are deprecated, and may be removed in a future release (Use -Wno-deprecated-gpu-targets to suppress warning).\n",
            "/usr/local/cuda/bin/nvcc -ccbin g++   -m64      -gencode arch=compute_35,code=sm_35 -gencode arch=compute_37,code=sm_37 -gencode arch=compute_50,code=sm_50 -gencode arch=compute_52,code=sm_52 -gencode arch=compute_60,code=sm_60 -gencode arch=compute_61,code=sm_61 -gencode arch=compute_70,code=sm_70 -gencode arch=compute_75,code=sm_75 -gencode arch=compute_80,code=sm_80 -gencode arch=compute_86,code=sm_86 -gencode arch=compute_86,code=compute_86 -o deviceQuery deviceQuery.o \n",
            "nvcc warning : The 'compute_35', 'compute_37', 'compute_50', 'sm_35', 'sm_37' and 'sm_50' architectures are deprecated, and may be removed in a future release (Use -Wno-deprecated-gpu-targets to suppress warning).\n",
            "mkdir -p ../../bin/x86_64/linux/release\n",
            "cp deviceQuery ../../bin/x86_64/linux/release\n"
          ]
        }
      ]
    },
    {
      "cell_type": "markdown",
      "source": [
        "Ejecuta el programa `deviceQuery`. Observa el nombre de la GPU, las versiones del driver de CUDA y de CUDA runtime, la capacidad de cómputo (CUDA Capability), la cantidad de memoria, el número de cores CUDA, dimensiones máximas de bloque y grid…"
      ],
      "metadata": {
        "id": "16GpAH4T2AgB"
      }
    },
    {
      "cell_type": "code",
      "source": [
        "!./deviceQuery"
      ],
      "metadata": {
        "id": "-10tgH1A32e-",
        "colab": {
          "base_uri": "https://localhost:8080/"
        },
        "outputId": "b7fcdefd-08e3-4027-c7be-19d4fffae9e4"
      },
      "execution_count": null,
      "outputs": [
        {
          "output_type": "stream",
          "name": "stdout",
          "text": [
            "./deviceQuery Starting...\n",
            "\n",
            " CUDA Device Query (Runtime API) version (CUDART static linking)\n",
            "\n",
            "Detected 1 CUDA Capable device(s)\n",
            "\n",
            "Device 0: \"Tesla T4\"\n",
            "  CUDA Driver Version / Runtime Version          11.2 / 11.1\n",
            "  CUDA Capability Major/Minor version number:    7.5\n",
            "  Total amount of global memory:                 15110 MBytes (15843721216 bytes)\n",
            "  (40) Multiprocessors, ( 64) CUDA Cores/MP:     2560 CUDA Cores\n",
            "  GPU Max Clock rate:                            1590 MHz (1.59 GHz)\n",
            "  Memory Clock rate:                             5001 Mhz\n",
            "  Memory Bus Width:                              256-bit\n",
            "  L2 Cache Size:                                 4194304 bytes\n",
            "  Maximum Texture Dimension Size (x,y,z)         1D=(131072), 2D=(131072, 65536), 3D=(16384, 16384, 16384)\n",
            "  Maximum Layered 1D Texture Size, (num) layers  1D=(32768), 2048 layers\n",
            "  Maximum Layered 2D Texture Size, (num) layers  2D=(32768, 32768), 2048 layers\n",
            "  Total amount of constant memory:               65536 bytes\n",
            "  Total amount of shared memory per block:       49152 bytes\n",
            "  Total shared memory per multiprocessor:        65536 bytes\n",
            "  Total number of registers available per block: 65536\n",
            "  Warp size:                                     32\n",
            "  Maximum number of threads per multiprocessor:  1024\n",
            "  Maximum number of threads per block:           1024\n",
            "  Max dimension size of a thread block (x,y,z): (1024, 1024, 64)\n",
            "  Max dimension size of a grid size    (x,y,z): (2147483647, 65535, 65535)\n",
            "  Maximum memory pitch:                          2147483647 bytes\n",
            "  Texture alignment:                             512 bytes\n",
            "  Concurrent copy and kernel execution:          Yes with 3 copy engine(s)\n",
            "  Run time limit on kernels:                     No\n",
            "  Integrated GPU sharing Host Memory:            No\n",
            "  Support host page-locked memory mapping:       Yes\n",
            "  Alignment requirement for Surfaces:            Yes\n",
            "  Device has ECC support:                        Enabled\n",
            "  Device supports Unified Addressing (UVA):      Yes\n",
            "  Device supports Managed Memory:                Yes\n",
            "  Device supports Compute Preemption:            Yes\n",
            "  Supports Cooperative Kernel Launch:            Yes\n",
            "  Supports MultiDevice Co-op Kernel Launch:      Yes\n",
            "  Device PCI Domain ID / Bus ID / location ID:   0 / 0 / 4\n",
            "  Compute Mode:\n",
            "     < Default (multiple host threads can use ::cudaSetDevice() with device simultaneously) >\n",
            "\n",
            "deviceQuery, CUDA Driver = CUDART, CUDA Driver Version = 11.2, CUDA Runtime Version = 11.1, NumDevs = 1\n",
            "Result = PASS\n"
          ]
        }
      ]
    },
    {
      "cell_type": "markdown",
      "source": [
        "## EJEMPLO: SAXPY"
      ],
      "metadata": {
        "id": "3XMvobEaGpEL"
      }
    },
    {
      "cell_type": "markdown",
      "source": [
        "Haz que `content` sea tu directorio de trabajo"
      ],
      "metadata": {
        "id": "fmiiA61A634m"
      }
    },
    {
      "cell_type": "code",
      "source": [
        "cd /content"
      ],
      "metadata": {
        "id": "tI4TpfK77Lem",
        "colab": {
          "base_uri": "https://localhost:8080/"
        },
        "outputId": "dae01596-6b07-475b-b65d-cd5142a1232a"
      },
      "execution_count": null,
      "outputs": [
        {
          "output_type": "stream",
          "name": "stdout",
          "text": [
            "/content\n"
          ]
        }
      ]
    },
    {
      "cell_type": "markdown",
      "metadata": {
        "id": "uivTivh0m34p"
      },
      "source": [
        "Descarga el archivo `saxpyCPU.cpp`"
      ]
    },
    {
      "cell_type": "code",
      "source": [
        "!wget -O saxpyCPU.cpp https://www.dropbox.com/s/fzaph95uz4qlvju/saxpyCPU.cpp?dl=0"
      ],
      "metadata": {
        "id": "SJwPvfr77nWO",
        "colab": {
          "base_uri": "https://localhost:8080/"
        },
        "outputId": "3cda3253-9b7c-4e31-9e88-1b39a781c0af"
      },
      "execution_count": null,
      "outputs": [
        {
          "output_type": "stream",
          "name": "stdout",
          "text": [
            "--2022-05-18 17:20:48--  https://www.dropbox.com/s/fzaph95uz4qlvju/saxpyCPU.cpp?dl=0\n",
            "Resolving www.dropbox.com (www.dropbox.com)... 162.125.1.18, 2620:100:6016:18::a27d:112\n",
            "Connecting to www.dropbox.com (www.dropbox.com)|162.125.1.18|:443... connected.\n",
            "HTTP request sent, awaiting response... 301 Moved Permanently\n",
            "Location: /s/raw/fzaph95uz4qlvju/saxpyCPU.cpp [following]\n",
            "--2022-05-18 17:20:48--  https://www.dropbox.com/s/raw/fzaph95uz4qlvju/saxpyCPU.cpp\n",
            "Reusing existing connection to www.dropbox.com:443.\n",
            "HTTP request sent, awaiting response... 302 Found\n",
            "Location: https://uca64593e0b6c212a209690d8799.dl.dropboxusercontent.com/cd/0/inline/BljTgJOWknyKseSxNnTBZTwB7rmyPObYOnJt9IoM-hzllKMyjELUDi0qZfJ8L4jTm1ReH7Q7HXqA-_bQt2xecEDa98YYMoOeGqzbBPqXq2QwRcpCzsKlbmvcGl5Ndq8_9u9b8ohBBr0Km5c1EBDobYpUXAj5dIFa2WCXMQGexjpT9Q/file# [following]\n",
            "--2022-05-18 17:20:48--  https://uca64593e0b6c212a209690d8799.dl.dropboxusercontent.com/cd/0/inline/BljTgJOWknyKseSxNnTBZTwB7rmyPObYOnJt9IoM-hzllKMyjELUDi0qZfJ8L4jTm1ReH7Q7HXqA-_bQt2xecEDa98YYMoOeGqzbBPqXq2QwRcpCzsKlbmvcGl5Ndq8_9u9b8ohBBr0Km5c1EBDobYpUXAj5dIFa2WCXMQGexjpT9Q/file\n",
            "Resolving uca64593e0b6c212a209690d8799.dl.dropboxusercontent.com (uca64593e0b6c212a209690d8799.dl.dropboxusercontent.com)... 162.125.1.15, 2620:100:6016:15::a27d:10f\n",
            "Connecting to uca64593e0b6c212a209690d8799.dl.dropboxusercontent.com (uca64593e0b6c212a209690d8799.dl.dropboxusercontent.com)|162.125.1.15|:443... connected.\n",
            "HTTP request sent, awaiting response... 200 OK\n",
            "Length: 982 [text/plain]\n",
            "Saving to: ‘saxpyCPU.cpp’\n",
            "\n",
            "saxpyCPU.cpp        100%[===================>]     982  --.-KB/s    in 0s      \n",
            "\n",
            "2022-05-18 17:20:49 (139 MB/s) - ‘saxpyCPU.cpp’ saved [982/982]\n",
            "\n"
          ]
        }
      ]
    },
    {
      "cell_type": "markdown",
      "source": [
        "Lee el contenido del archivo `saxpyCPU.cpp`"
      ],
      "metadata": {
        "id": "G5y2fWB7_jZr"
      }
    },
    {
      "cell_type": "code",
      "source": [
        "!cat saxpyCPU.cpp"
      ],
      "metadata": {
        "id": "QhxcorJ__4tL",
        "colab": {
          "base_uri": "https://localhost:8080/"
        },
        "outputId": "c407674a-8ca6-43f7-c1f3-1a721eeffac6"
      },
      "execution_count": null,
      "outputs": [
        {
          "output_type": "stream",
          "name": "stdout",
          "text": [
            "#include <stdio.h>\n",
            "#include <stdlib.h>\n",
            "\n",
            "// Función que calcula Y=a*X+Y\n",
            "void saxpy_cpu(float *x, float *y, float a, int numElementos)\n",
            "{\n",
            "    for (int i = 0; i < numElementos; ++i)\n",
            "    {\n",
            "        y[i] = a*x[i] + y[i];\n",
            "    }\n",
            "}\n",
            "\n",
            "int main(void)\n",
            "{\n",
            "    // Definimos tamaños: 1M de elementos (2^20)\n",
            "    int numElementos = 1<<20; // \n",
            "    size_t tamano = numElementos * sizeof(float);\n",
            "\t\n",
            "    //Definimos variables\n",
            "    float *x, *y;\n",
            "\t\n",
            "\t// Reservamos memoria\n",
            "    x = (float *)malloc(tamano);\n",
            "    y = (float *)malloc(tamano);\n",
            "    \n",
            "    // Asignamos valores\n",
            "    for (int i = 0; i < numElementos; i++)\n",
            "    {\n",
            "        x[i] = 1.0f;\n",
            "        y[i] = 2.0f;\n",
            "    }\n",
            "\tfloat a = 5.0f;\n",
            "\n",
            "    // LLamamos a función saxpy_cpu\n",
            "    saxpy_cpu(x, y, a, numElementos);\n",
            "    \n",
            "    // Verificamos resultado\n",
            "    float Error = 0.0f;\n",
            "    for (int i = 0; i < numElementos; i++)\n",
            "        Error = Error + abs(y[i]-7.0f);\n",
            "    printf(\"Error: %f\\n\", Error);\n",
            "\n",
            "    // Liberamos memoria host\n",
            "    free(x);\n",
            "    free(y);\n",
            "\n",
            "    return 0;\n",
            "}\n",
            "\n"
          ]
        }
      ]
    },
    {
      "cell_type": "markdown",
      "source": [
        "Compila el archivo `saxpyCPU.cpp`"
      ],
      "metadata": {
        "id": "PH-fzvAw4q7q"
      }
    },
    {
      "cell_type": "code",
      "source": [
        "!g++ saxpyCPU.cpp -o saxpyCPU"
      ],
      "metadata": {
        "id": "nvu21nd--SSM"
      },
      "execution_count": null,
      "outputs": []
    },
    {
      "cell_type": "markdown",
      "source": [
        "Ejecuta el programa `saxpyCPU`"
      ],
      "metadata": {
        "id": "qeF63-G8-krM"
      }
    },
    {
      "cell_type": "code",
      "source": [
        "!./saxpyCPU"
      ],
      "metadata": {
        "id": "BubkYtjZ7RS2",
        "colab": {
          "base_uri": "https://localhost:8080/"
        },
        "outputId": "ba73e87c-36ad-48b0-d231-af05a9008551"
      },
      "execution_count": null,
      "outputs": [
        {
          "output_type": "stream",
          "name": "stdout",
          "text": [
            "Error: 0.000000\n"
          ]
        }
      ]
    },
    {
      "cell_type": "markdown",
      "source": [
        "Descarga el archivo `saxpy.cu`"
      ],
      "metadata": {
        "id": "u4N5W4jlCyc3"
      }
    },
    {
      "cell_type": "code",
      "source": [
        "!wget -O saxpy.cu https://www.dropbox.com/s/nmm0u2cz5ayclpw/saxpy.cu?dl=0"
      ],
      "metadata": {
        "id": "WSYk4OkMDTUI",
        "colab": {
          "base_uri": "https://localhost:8080/"
        },
        "outputId": "bae68888-cfd1-49e3-c9e0-f9b848e456ac"
      },
      "execution_count": null,
      "outputs": [
        {
          "output_type": "stream",
          "name": "stdout",
          "text": [
            "--2022-05-18 17:27:15--  https://www.dropbox.com/s/nmm0u2cz5ayclpw/saxpy.cu?dl=0\n",
            "Resolving www.dropbox.com (www.dropbox.com)... 162.125.1.18, 2620:100:6016:18::a27d:112\n",
            "Connecting to www.dropbox.com (www.dropbox.com)|162.125.1.18|:443... connected.\n",
            "HTTP request sent, awaiting response... 301 Moved Permanently\n",
            "Location: /s/raw/nmm0u2cz5ayclpw/saxpy.cu [following]\n",
            "--2022-05-18 17:27:15--  https://www.dropbox.com/s/raw/nmm0u2cz5ayclpw/saxpy.cu\n",
            "Reusing existing connection to www.dropbox.com:443.\n",
            "HTTP request sent, awaiting response... 302 Found\n",
            "Location: https://uc9b89e027e85d25a8acba2c11ed.dl.dropboxusercontent.com/cd/0/inline/BlhOIX_MQZKkbhuFGpiBx4FrprJunNWOS932h_5DV6gF5o19j8FOmxEg2-23IXI-dlB3bdnqQP2AoRwqkxnrHmFbpaUqAya-w9Jp4Z1pzf7XsfzilxHpFc506T-8xL7aW1qFux03TosB14qmXCVtTwWdYdKuZ5apcCPTV5GWMd-uSA/file# [following]\n",
            "--2022-05-18 17:27:16--  https://uc9b89e027e85d25a8acba2c11ed.dl.dropboxusercontent.com/cd/0/inline/BlhOIX_MQZKkbhuFGpiBx4FrprJunNWOS932h_5DV6gF5o19j8FOmxEg2-23IXI-dlB3bdnqQP2AoRwqkxnrHmFbpaUqAya-w9Jp4Z1pzf7XsfzilxHpFc506T-8xL7aW1qFux03TosB14qmXCVtTwWdYdKuZ5apcCPTV5GWMd-uSA/file\n",
            "Resolving uc9b89e027e85d25a8acba2c11ed.dl.dropboxusercontent.com (uc9b89e027e85d25a8acba2c11ed.dl.dropboxusercontent.com)... 162.125.1.15, 2620:100:6016:15::a27d:10f\n",
            "Connecting to uc9b89e027e85d25a8acba2c11ed.dl.dropboxusercontent.com (uc9b89e027e85d25a8acba2c11ed.dl.dropboxusercontent.com)|162.125.1.15|:443... connected.\n",
            "HTTP request sent, awaiting response... 302 Found\n",
            "Location: /cd/0/inline2/BljWGSv32U-nngjhc6KKbHjQeNEmLEEh6Lrzq6YWBNrSCKKspGfWniVsvZy4dy8zc7YTJQ-kNNbqbU05r1OnqiC2wwV4KvEz5Bxd3yaJPAmK32iPuMr3o7BginMZlcTwjg-4I8D9iDLJVIuBBcsNvhLSzHjpwqhDvTo9_Bmqto8-tZdPpTaJtbSq-6UVd6K3rapcvI3kP-tKJ5KwPKrJKovQxLxWAnEM6sf6NrNPN62nXxNpepDuOcfzDVIian3fYJ2kHeI_91GKmXO39qJdv8u13WTUlJ-KphNKRDsJS8q2YkytO6BDwF8iUJw_Ufrq2eaWoHMR0u_qlD5ELgMnA--NIGyoAQ0jsUUoABav6etkC53-im0NmbIvcChwFit9PFkLJwc1eMLJgm7qNaLpg1mXPWP2rfh9EjYD2GYiblg6Qw/file [following]\n",
            "--2022-05-18 17:27:16--  https://uc9b89e027e85d25a8acba2c11ed.dl.dropboxusercontent.com/cd/0/inline2/BljWGSv32U-nngjhc6KKbHjQeNEmLEEh6Lrzq6YWBNrSCKKspGfWniVsvZy4dy8zc7YTJQ-kNNbqbU05r1OnqiC2wwV4KvEz5Bxd3yaJPAmK32iPuMr3o7BginMZlcTwjg-4I8D9iDLJVIuBBcsNvhLSzHjpwqhDvTo9_Bmqto8-tZdPpTaJtbSq-6UVd6K3rapcvI3kP-tKJ5KwPKrJKovQxLxWAnEM6sf6NrNPN62nXxNpepDuOcfzDVIian3fYJ2kHeI_91GKmXO39qJdv8u13WTUlJ-KphNKRDsJS8q2YkytO6BDwF8iUJw_Ufrq2eaWoHMR0u_qlD5ELgMnA--NIGyoAQ0jsUUoABav6etkC53-im0NmbIvcChwFit9PFkLJwc1eMLJgm7qNaLpg1mXPWP2rfh9EjYD2GYiblg6Qw/file\n",
            "Reusing existing connection to uc9b89e027e85d25a8acba2c11ed.dl.dropboxusercontent.com:443.\n",
            "HTTP request sent, awaiting response... 200 OK\n",
            "Length: 1360 (1.3K) [application/cu-seeme]\n",
            "Saving to: ‘saxpy.cu’\n",
            "\n",
            "saxpy.cu            100%[===================>]   1.33K  --.-KB/s    in 0s      \n",
            "\n",
            "2022-05-18 17:27:16 (337 MB/s) - ‘saxpy.cu’ saved [1360/1360]\n",
            "\n"
          ]
        }
      ]
    },
    {
      "cell_type": "markdown",
      "source": [
        "Edita y completa el programa saxpy.cu\n",
        "(doble clic sobre el archivo en el panel de la izquierda)"
      ],
      "metadata": {
        "id": "aD46Iqh-EFfT"
      }
    },
    {
      "cell_type": "markdown",
      "source": [
        "Compila el programa `saxpy.cu`"
      ],
      "metadata": {
        "id": "9Gtlk3RGEyRY"
      }
    },
    {
      "cell_type": "code",
      "source": [
        "!nvcc -arch=sm_75 saxpy.cu -o saxpy"
      ],
      "metadata": {
        "id": "lQ0Xoa3HCN-y"
      },
      "execution_count": null,
      "outputs": []
    },
    {
      "cell_type": "markdown",
      "source": [
        "Ejecuta el programa saxpy"
      ],
      "metadata": {
        "id": "vYurIjDKFYO8"
      }
    },
    {
      "cell_type": "code",
      "source": [
        "!./saxpy"
      ],
      "metadata": {
        "id": "ncJJxzGiCZ96",
        "colab": {
          "base_uri": "https://localhost:8080/"
        },
        "outputId": "0141a33d-27b1-49f5-b7ea-001dd5ee7bb5"
      },
      "execution_count": null,
      "outputs": [
        {
          "output_type": "stream",
          "name": "stdout",
          "text": [
            "Error: 0.000000\n"
          ]
        }
      ]
    }
  ],
  "metadata": {
    "kernelspec": {
      "display_name": "Python 3",
      "language": "python",
      "name": "python3"
    },
    "language_info": {
      "codemirror_mode": {
        "name": "ipython",
        "version": 3
      },
      "file_extension": ".py",
      "mimetype": "text/x-python",
      "name": "python",
      "nbconvert_exporter": "python",
      "pygments_lexer": "ipython3",
      "version": "3.8.8"
    },
    "colab": {
      "name": "CUDA_en_Google_Colab.ipynb",
      "provenance": [],
      "collapsed_sections": [],
      "include_colab_link": true
    },
    "accelerator": "GPU"
  },
  "nbformat": 4,
  "nbformat_minor": 0
}